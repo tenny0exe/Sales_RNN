{
 "cells": [
  {
   "cell_type": "code",
   "execution_count": 28,
   "id": "92feb900-b65f-4e69-9fcc-ef6e931bf68e",
   "metadata": {},
   "outputs": [
    {
     "name": "stdout",
     "output_type": "stream",
     "text": [
      "Requirement already satisfied: scikit-learn in c:\\users\\tenny\\anaconda3\\lib\\site-packages (1.4.2)\n",
      "Requirement already satisfied: numpy>=1.19.5 in c:\\users\\tenny\\anaconda3\\lib\\site-packages (from scikit-learn) (1.26.4)\n",
      "Requirement already satisfied: scipy>=1.6.0 in c:\\users\\tenny\\anaconda3\\lib\\site-packages (from scikit-learn) (1.13.1)\n",
      "Requirement already satisfied: joblib>=1.2.0 in c:\\users\\tenny\\anaconda3\\lib\\site-packages (from scikit-learn) (1.4.2)\n",
      "Requirement already satisfied: threadpoolctl>=2.0.0 in c:\\users\\tenny\\anaconda3\\lib\\site-packages (from scikit-learn) (2.2.0)\n"
     ]
    }
   ],
   "source": [
    "!pip install scikit-learn"
   ]
  },
  {
   "cell_type": "code",
   "execution_count": 29,
   "id": "0106865f-4340-4e24-a4aa-91f983ceb1c1",
   "metadata": {},
   "outputs": [],
   "source": [
    "import pandas as pd\n",
    "import numpy as np\n",
    "import matplotlib.pyplot as plt\n",
    "import torch\n",
    "import torch.nn as nn\n",
    "import torch.optim as optim\n",
    "from sklearn.preprocessing import MinMaxScaler\n",
    "from sklearn.model_selection import train_test_split\n",
    "from torch.utils.data import DataLoader, TensorDataset"
   ]
  },
  {
   "cell_type": "code",
   "execution_count": 30,
   "id": "686fa2c4-0429-40aa-8e02-43a8fa57e92d",
   "metadata": {},
   "outputs": [],
   "source": [
    "path=\"C:\\\\backup\\\\internship\\\\day 7\\\\online+retail\\\\Online Retail.xlsx\""
   ]
  },
  {
   "cell_type": "code",
   "execution_count": 31,
   "id": "083ebaf1-a2f1-491d-a03b-98e57d124831",
   "metadata": {},
   "outputs": [
    {
     "name": "stdout",
     "output_type": "stream",
     "text": [
      "Using device: cuda\n"
     ]
    }
   ],
   "source": [
    "# Check GPU availability\n",
    "device = torch.device('cuda' if torch.cuda.is_available() else 'cpu')\n",
    "print(f\"Using device: {device}\")\n"
   ]
  },
  {
   "cell_type": "code",
   "execution_count": 32,
   "id": "2dcb42b5-79c9-419f-91da-107e5986985c",
   "metadata": {},
   "outputs": [],
   "source": [
    "# Load the dataset\n",
    "df = pd.read_excel(path)\n",
    "\n",
    "# Preprocess data\n",
    "df['InvoiceDate'] = pd.to_datetime(df['InvoiceDate'])\n",
    "df = df[~df['InvoiceNo'].str.contains('C', case=False, na=False)]\n",
    "df['TotalPurchaseValue'] = df['UnitPrice'] * df['Quantity']\n",
    "\n",
    "df['YearMonth'] = df['InvoiceDate'].dt.to_period('M')\n",
    "monthly_sales = df.groupby(['CustomerID', 'YearMonth'])['TotalPurchaseValue'].sum().reset_index()\n",
    "monthly_sales.columns = ['CustomerID', 'YearMonth', 'TotalMonthlySales']\n",
    "\n",
    "invoice_summary = df.groupby(['CustomerID', 'YearMonth', 'InvoiceNo']).agg(\n",
    "    TotalInvoiceValue=('TotalPurchaseValue', 'sum')\n",
    ").reset_index()\n",
    "\n",
    "customer_monthly_summary = invoice_summary.groupby(['CustomerID', 'YearMonth']).agg(\n",
    "    TotalMonthlySales=('TotalInvoiceValue', 'sum'),\n",
    "    NumberOfPurchases=('InvoiceNo', 'count')\n",
    ").reset_index()\n",
    "\n",
    "customer_monthly_summary['AvgPurchaseValue'] = customer_monthly_summary['TotalMonthlySales'] / customer_monthly_summary['NumberOfPurchases']\n",
    "\n",
    "data = pd.get_dummies(customer_monthly_summary[['CustomerID', 'YearMonth', 'AvgPurchaseValue']], columns=['CustomerID', 'YearMonth'])\n",
    "data['TotalMonthlySales'] = customer_monthly_summary['TotalMonthlySales']\n"
   ]
  },
  {
   "cell_type": "code",
   "execution_count": 33,
   "id": "c2cdc30d-b1cf-450e-8c8a-e9f6b0ebbe03",
   "metadata": {},
   "outputs": [
    {
     "ename": "MemoryError",
     "evalue": "Unable to allocate 434. MiB for an array with shape (4353, 13055) and data type object",
     "output_type": "error",
     "traceback": [
      "\u001b[1;31m---------------------------------------------------------------------------\u001b[0m",
      "\u001b[1;31mMemoryError\u001b[0m                               Traceback (most recent call last)",
      "Cell \u001b[1;32mIn[33], line 2\u001b[0m\n\u001b[0;32m      1\u001b[0m \u001b[38;5;66;03m# Split data into features and target\u001b[39;00m\n\u001b[1;32m----> 2\u001b[0m X \u001b[38;5;241m=\u001b[39m data\u001b[38;5;241m.\u001b[39mdrop(\u001b[38;5;124m'\u001b[39m\u001b[38;5;124mTotalMonthlySales\u001b[39m\u001b[38;5;124m'\u001b[39m, axis\u001b[38;5;241m=\u001b[39m\u001b[38;5;241m1\u001b[39m)\u001b[38;5;241m.\u001b[39mvalues\n\u001b[0;32m      3\u001b[0m y \u001b[38;5;241m=\u001b[39m data[\u001b[38;5;124m'\u001b[39m\u001b[38;5;124mTotalMonthlySales\u001b[39m\u001b[38;5;124m'\u001b[39m]\u001b[38;5;241m.\u001b[39mvalues\n\u001b[0;32m      5\u001b[0m \u001b[38;5;66;03m# Scale the data\u001b[39;00m\n",
      "File \u001b[1;32m~\\anaconda3\\Lib\\site-packages\\pandas\\core\\frame.py:12664\u001b[0m, in \u001b[0;36mDataFrame.values\u001b[1;34m(self)\u001b[0m\n\u001b[0;32m  12590\u001b[0m \u001b[38;5;129m@property\u001b[39m\n\u001b[0;32m  12591\u001b[0m \u001b[38;5;28;01mdef\u001b[39;00m \u001b[38;5;21mvalues\u001b[39m(\u001b[38;5;28mself\u001b[39m) \u001b[38;5;241m-\u001b[39m\u001b[38;5;241m>\u001b[39m np\u001b[38;5;241m.\u001b[39mndarray:\n\u001b[0;32m  12592\u001b[0m \u001b[38;5;250m    \u001b[39m\u001b[38;5;124;03m\"\"\"\u001b[39;00m\n\u001b[0;32m  12593\u001b[0m \u001b[38;5;124;03m    Return a Numpy representation of the DataFrame.\u001b[39;00m\n\u001b[0;32m  12594\u001b[0m \n\u001b[1;32m   (...)\u001b[0m\n\u001b[0;32m  12662\u001b[0m \u001b[38;5;124;03m           ['monkey', nan, None]], dtype=object)\u001b[39;00m\n\u001b[0;32m  12663\u001b[0m \u001b[38;5;124;03m    \"\"\"\u001b[39;00m\n\u001b[1;32m> 12664\u001b[0m     \u001b[38;5;28;01mreturn\u001b[39;00m \u001b[38;5;28mself\u001b[39m\u001b[38;5;241m.\u001b[39m_mgr\u001b[38;5;241m.\u001b[39mas_array()\n",
      "File \u001b[1;32m~\\anaconda3\\Lib\\site-packages\\pandas\\core\\internals\\managers.py:1694\u001b[0m, in \u001b[0;36mBlockManager.as_array\u001b[1;34m(self, dtype, copy, na_value)\u001b[0m\n\u001b[0;32m   1692\u001b[0m         arr\u001b[38;5;241m.\u001b[39mflags\u001b[38;5;241m.\u001b[39mwriteable \u001b[38;5;241m=\u001b[39m \u001b[38;5;28;01mFalse\u001b[39;00m\n\u001b[0;32m   1693\u001b[0m \u001b[38;5;28;01melse\u001b[39;00m:\n\u001b[1;32m-> 1694\u001b[0m     arr \u001b[38;5;241m=\u001b[39m \u001b[38;5;28mself\u001b[39m\u001b[38;5;241m.\u001b[39m_interleave(dtype\u001b[38;5;241m=\u001b[39mdtype, na_value\u001b[38;5;241m=\u001b[39mna_value)\n\u001b[0;32m   1695\u001b[0m     \u001b[38;5;66;03m# The underlying data was copied within _interleave, so no need\u001b[39;00m\n\u001b[0;32m   1696\u001b[0m     \u001b[38;5;66;03m# to further copy if copy=True or setting na_value\u001b[39;00m\n\u001b[0;32m   1698\u001b[0m \u001b[38;5;28;01mif\u001b[39;00m na_value \u001b[38;5;129;01mis\u001b[39;00m lib\u001b[38;5;241m.\u001b[39mno_default:\n",
      "File \u001b[1;32m~\\anaconda3\\Lib\\site-packages\\pandas\\core\\internals\\managers.py:1727\u001b[0m, in \u001b[0;36mBlockManager._interleave\u001b[1;34m(self, dtype, na_value)\u001b[0m\n\u001b[0;32m   1724\u001b[0m \u001b[38;5;66;03m# error: Argument 1 to \"ensure_np_dtype\" has incompatible type\u001b[39;00m\n\u001b[0;32m   1725\u001b[0m \u001b[38;5;66;03m# \"Optional[dtype[Any]]\"; expected \"Union[dtype[Any], ExtensionDtype]\"\u001b[39;00m\n\u001b[0;32m   1726\u001b[0m dtype \u001b[38;5;241m=\u001b[39m ensure_np_dtype(dtype)  \u001b[38;5;66;03m# type: ignore[arg-type]\u001b[39;00m\n\u001b[1;32m-> 1727\u001b[0m result \u001b[38;5;241m=\u001b[39m np\u001b[38;5;241m.\u001b[39mempty(\u001b[38;5;28mself\u001b[39m\u001b[38;5;241m.\u001b[39mshape, dtype\u001b[38;5;241m=\u001b[39mdtype)\n\u001b[0;32m   1729\u001b[0m itemmask \u001b[38;5;241m=\u001b[39m np\u001b[38;5;241m.\u001b[39mzeros(\u001b[38;5;28mself\u001b[39m\u001b[38;5;241m.\u001b[39mshape[\u001b[38;5;241m0\u001b[39m])\n\u001b[0;32m   1731\u001b[0m \u001b[38;5;28;01mif\u001b[39;00m dtype \u001b[38;5;241m==\u001b[39m np\u001b[38;5;241m.\u001b[39mdtype(\u001b[38;5;124m\"\u001b[39m\u001b[38;5;124mobject\u001b[39m\u001b[38;5;124m\"\u001b[39m) \u001b[38;5;129;01mand\u001b[39;00m na_value \u001b[38;5;129;01mis\u001b[39;00m lib\u001b[38;5;241m.\u001b[39mno_default:\n\u001b[0;32m   1732\u001b[0m     \u001b[38;5;66;03m# much more performant than using to_numpy below\u001b[39;00m\n",
      "\u001b[1;31mMemoryError\u001b[0m: Unable to allocate 434. MiB for an array with shape (4353, 13055) and data type object"
     ]
    }
   ],
   "source": [
    "# Split data into features and target\n",
    "X = data.drop('TotalMonthlySales', axis=1).values\n",
    "y = data['TotalMonthlySales'].values\n",
    "\n",
    "# Scale the data\n",
    "scaler_X = MinMaxScaler()\n",
    "scaler_y = MinMaxScaler()\n",
    "X_scaled = scaler_X.fit_transform(X)\n",
    "y_scaled = scaler_y.fit_transform(y.reshape(-1, 1)).flatten()\n",
    "\n",
    "# Split data into training and testing sets\n",
    "X_train, X_test, y_train, y_test = train_test_split(X_scaled, y_scaled, test_size=0.2, random_state=42)\n",
    "\n",
    "# Use smaller sequence length and batch size to reduce memory usage\n",
    "sequence_length = 6  # Reduced sequence length\n",
    "batch_size = 2  # Reduced batch size\n",
    "\n",
    "# Prepare the sequences for RNN input\n",
    "def create_sequences(data, target, seq_length):\n",
    "    sequences = []\n",
    "    targets = []\n",
    "    for i in range(len(data) - seq_length):\n",
    "        seq = data[i:i + seq_length]\n",
    "        target_seq = target[i + seq_length]\n",
    "        sequences.append(seq)\n",
    "        targets.append(target_seq)\n",
    "    return np.array(sequences), np.array(targets)\n",
    "\n",
    "X_train_seq, y_train_seq = create_sequences(X_train, y_train, sequence_length)\n",
    "X_test_seq, y_test_seq = create_sequences(X_test, y_test, sequence_length)\n",
    "\n",
    "# Convert to PyTorch tensors\n",
    "X_train_tensor = torch.tensor(X_train_seq, dtype=torch.float32).to(device)\n",
    "y_train_tensor = torch.tensor(y_train_seq, dtype=torch.float32).to(device)\n",
    "X_test_tensor = torch.tensor(X_test_seq, dtype=torch.float32).to(device)\n",
    "y_test_tensor = torch.tensor(y_test_seq, dtype=torch.float32).to(device)\n",
    "\n",
    "# Create DataLoader for training\n",
    "train_dataset = TensorDataset(X_train_tensor, y_train_tensor)\n",
    "train_loader = DataLoader(train_dataset, batch_size=batch_size, shuffle=True)\n"
   ]
  },
  {
   "cell_type": "code",
   "execution_count": null,
   "id": "e1c2e274-f875-4c9e-b64c-9cd28efda2ba",
   "metadata": {},
   "outputs": [],
   "source": [
    "class RNNModel(nn.Module):\n",
    "    def __init__(self, input_size, hidden_size, output_size):\n",
    "        super(RNNModel, self).__init__()\n",
    "        self.rnn = nn.RNN(input_size, hidden_size, batch_first=True)\n",
    "        self.fc = nn.Linear(hidden_size, output_size)\n",
    "\n",
    "    def forward(self, x):\n",
    "        h0 = torch.zeros(1, x.size(0), hidden_size).to(device)  # Initial hidden state\n",
    "        out, _ = self.rnn(x, h0)\n",
    "        out = self.fc(out[:, -1, :])  # Only take the output from the last time step\n",
    "        return out\n",
    "\n",
    "# Hyperparameters\n",
    "input_size = X_train_tensor.shape[2]\n",
    "hidden_size = 50\n",
    "output_size = 1\n",
    "num_epochs = 20\n",
    "\n",
    "# Initialize model, loss function, and optimizer\n",
    "model = RNNModel(input_size, hidden_size, output_size).to(device)\n",
    "criterion = nn.MSELoss()\n",
    "optimizer = optim.Adam(model.parameters(), lr=0.001)\n",
    "\n",
    "# Train the model\n",
    "for epoch in range(num_epochs):\n",
    "    for i, (seq, target) in enumerate(train_loader):\n",
    "        # Forward pass\n",
    "        outputs = model(seq)\n",
    "        loss = criterion(outputs.squeeze(), target)\n",
    "        \n",
    "        # Backward and optimize\n",
    "        optimizer.zero_grad()\n",
    "        loss.backward()\n",
    "        optimizer.step()\n",
    "    \n",
    "    if (epoch + 1) % 5 == 0:\n",
    "        print(f'Epoch [{epoch + 1}/{num_epochs}], Loss: {loss.item():.4f}')\n"
   ]
  },
  {
   "cell_type": "code",
   "execution_count": null,
   "id": "49c3278b-d26f-44ee-a6b2-4a0f4e3ddd1d",
   "metadata": {},
   "outputs": [],
   "source": [
    "# Predict future sales\n",
    "def predict_future_sales(model, last_sequence, num_months, scaler_X, scaler_y):\n",
    "    model.eval()\n",
    "    predictions = []\n",
    "    current_sequence = torch.tensor(last_sequence, dtype=torch.float32).to(device)\n",
    "    \n",
    "    with torch.no_grad():\n",
    "        for _ in range(num_months):\n",
    "            predicted_scaled = model(current_sequence.unsqueeze(0))\n",
    "            predicted_value = scaler_y.inverse_transform(predicted_scaled.cpu().numpy())\n",
    "            predictions.append(predicted_value.flatten()[0])\n",
    "            \n",
    "            # Update the sequence by appending the latest prediction and removing the oldest value\n",
    "            new_sequence = np.append(current_sequence.cpu().numpy()[:, 1:, :], predicted_scaled.cpu().numpy().reshape(1, 1, -1), axis=1)\n",
    "            current_sequence = torch.tensor(new_sequence, dtype=torch.float32).to(device)\n",
    "\n",
    "    return predictions\n",
    "\n",
    "# Use the last sequence from the training data for prediction\n",
    "last_sequence = X_scaled[-sequence_length:]\n",
    "last_sequence = last_sequence.reshape((1, sequence_length, X_scaled.shape[1]))\n",
    "\n",
    "# Predict future sales\n",
    "predicted_1_month = predict_future_sales(model, last_sequence, 1, scaler_X, scaler_y)\n",
    "print(f'Predicted sales for the next month: {predicted_1_month[0]}')\n",
    "\n",
    "predicted_3_months = predict_future_sales(model, last_sequence, 3, scaler_X, scaler_y)\n",
    "print(f'Predicted sales for the next 3 months: {predicted_3_months}')\n",
    "\n",
    "predicted_1_year = predict_future_sales(model, last_sequence, 12, scaler_X, scaler_y)\n",
    "print(f'Predicted sales for the next 12 months: {predicted_1_year}')\n"
   ]
  },
  {
   "cell_type": "code",
   "execution_count": null,
   "id": "e5f25a60-3eb4-43d1-ae7c-0dd8ba56edcf",
   "metadata": {},
   "outputs": [],
   "source": []
  },
  {
   "cell_type": "code",
   "execution_count": null,
   "id": "af73f563-e790-4190-b730-b35eaebd7627",
   "metadata": {},
   "outputs": [],
   "source": []
  },
  {
   "cell_type": "code",
   "execution_count": null,
   "id": "0c8e1c42-cecb-40c8-af95-fd16a8a8285a",
   "metadata": {},
   "outputs": [],
   "source": []
  },
  {
   "cell_type": "code",
   "execution_count": null,
   "id": "d4a82cd1-6bd6-4ef2-9c19-8db1be73dfa4",
   "metadata": {},
   "outputs": [],
   "source": []
  },
  {
   "cell_type": "code",
   "execution_count": null,
   "id": "7e77860d-b25d-4bfa-b4b9-e144955d2579",
   "metadata": {},
   "outputs": [],
   "source": []
  }
 ],
 "metadata": {
  "kernelspec": {
   "display_name": "Python 3 (ipykernel)",
   "language": "python",
   "name": "python3"
  },
  "language_info": {
   "codemirror_mode": {
    "name": "ipython",
    "version": 3
   },
   "file_extension": ".py",
   "mimetype": "text/x-python",
   "name": "python",
   "nbconvert_exporter": "python",
   "pygments_lexer": "ipython3",
   "version": "3.12.4"
  }
 },
 "nbformat": 4,
 "nbformat_minor": 5
}
